{
  "nbformat": 4,
  "nbformat_minor": 0,
  "metadata": {
    "colab": {
      "provenance": []
    },
    "kernelspec": {
      "name": "python3",
      "display_name": "Python 3"
    },
    "language_info": {
      "name": "python"
    }
  },
  "cells": [
    {
      "cell_type": "code",
      "execution_count": 3,
      "metadata": {
        "colab": {
          "base_uri": "https://localhost:8080/"
        },
        "id": "TNJHbY7FIECY",
        "outputId": "1afac8f0-9313-4bee-a774-9249f300c4cd"
      },
      "outputs": [
        {
          "output_type": "stream",
          "name": "stdout",
          "text": [
            "¡Hola! Soy tu agente de clima.\n",
            "Escribe el nombre de la ciudad: Buenos Aires\n",
            "22°C y cielo despejado\n"
          ]
        }
      ],
      "source": [
        "# Agente simple de consulta de clima sin necesidad de API ni token\n",
        "\n",
        "def obtener_clima(ciudad):\n",
        "    # Diccionario con datos de clima simulados\n",
        "    clima_simulado = {\n",
        "        \"Buenos Aires\": \"22°C y cielo despejado\",\n",
        "        \"Madrid\": \"18°C y nublado\",\n",
        "        \"París\": \"15°C y llovizna\",\n",
        "        \"Nueva York\": \"20°C y soleado\",\n",
        "        \"Tokio\": \"25°C y parcialmente nublado\"\n",
        "    }\n",
        "    # Retorna el clima si la ciudad está en el diccionario\n",
        "    return clima_simulado.get(ciudad, f\"No se tiene información del clima para {ciudad}.\")\n",
        "\n",
        "def main():\n",
        "    print(\"¡Hola! Soy tu agente de clima.\")\n",
        "    ciudad = input(\"Escribe el nombre de la ciudad: \")\n",
        "    resultado = obtener_clima(ciudad)\n",
        "    print(resultado)\n",
        "\n",
        "if __name__ == \"__main__\":\n",
        "    main()"
      ]
    }
  ]
}